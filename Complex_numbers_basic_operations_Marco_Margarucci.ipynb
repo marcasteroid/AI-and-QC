{
  "nbformat": 4,
  "nbformat_minor": 0,
  "metadata": {
    "colab": {
      "provenance": [],
      "authorship_tag": "ABX9TyNB2xYdLIR70+uWGwqezw7N",
      "include_colab_link": true
    },
    "kernelspec": {
      "name": "python3",
      "display_name": "Python 3"
    },
    "language_info": {
      "name": "python"
    }
  },
  "cells": [
    {
      "cell_type": "markdown",
      "metadata": {
        "id": "view-in-github",
        "colab_type": "text"
      },
      "source": [
        "<a href=\"https://colab.research.google.com/github/marcasteroid/AI-and-QC/blob/master/Complex_numbers_basic_operations_Marco_Margarucci.ipynb\" target=\"_parent\"><img src=\"https://colab.research.google.com/assets/colab-badge.svg\" alt=\"Open In Colab\"/></a>"
      ]
    },
    {
      "cell_type": "markdown",
      "source": [
        "# **Basic operations on complex numbers**"
      ],
      "metadata": {
        "id": "KPsZn3SSrz4w"
      }
    },
    {
      "cell_type": "code",
      "source": [
        "import math"
      ],
      "metadata": {
        "id": "8cd0L6dTtSp4"
      },
      "execution_count": 68,
      "outputs": []
    },
    {
      "cell_type": "markdown",
      "source": [
        "**Two complex numbers as a pair of real and imaginary components, can be defined in Python using tuples.**\n",
        "\n",
        "\n"
      ],
      "metadata": {
        "id": "Y6Rh5KnYsLDv"
      }
    },
    {
      "cell_type": "code",
      "source": [
        "# 1 is the real part, 8 is the imaginary part that is 8i\n",
        "a = (1, 8)\n",
        "# 8 is the real part, -4 is the imaginary part that is -4i\n",
        "b = (8, -4)\n"
      ],
      "metadata": {
        "id": "IvI2K8LhsNXo"
      },
      "execution_count": null,
      "outputs": []
    },
    {
      "cell_type": "markdown",
      "source": [
        "**Sum of two complex numbers**"
      ],
      "metadata": {
        "id": "XiI_yQPhsyXk"
      }
    },
    {
      "cell_type": "code",
      "execution_count": null,
      "metadata": {
        "id": "jGsLuvIirrzO"
      },
      "outputs": [],
      "source": [
        "def add_complex_numbers(first_complex_number, second_complex_number):\n",
        "  real_part_result = first_complex_number[0] + second_complex_number[0]\n",
        "  imaginary_part_result = first_complex_number[1] + second_complex_number[1]\n",
        "  return real_part_result, imaginary_part_result"
      ]
    },
    {
      "cell_type": "code",
      "source": [
        "result = add_complex_numbers(a,b)\n",
        "print(\"({} + {}i) + ({} + {}i) = {} + {}i\".format(a[0], a[1], b[0], b[1], result[0], result[1]))"
      ],
      "metadata": {
        "colab": {
          "base_uri": "https://localhost:8080/"
        },
        "id": "Ji8qZYVnutgl",
        "outputId": "119a1955-1502-4dec-ccd9-0d7b695487e3"
      },
      "execution_count": null,
      "outputs": [
        {
          "output_type": "stream",
          "name": "stdout",
          "text": [
            "(1 + 8i) + (8 + -4i) = 9 + 4i\n"
          ]
        }
      ]
    },
    {
      "cell_type": "markdown",
      "source": [
        "**Division of two complex numbers**"
      ],
      "metadata": {
        "id": "r8eCN4HTswll"
      }
    },
    {
      "cell_type": "code",
      "source": [
        "def divide_complex_numbers(first_complex_number, second_complex_number):\n",
        "  denominator = second_complex_number[0]**2 + second_complex_number[1]**2\n",
        "  real_part_result = (first_complex_number[0] * second_complex_number[0] + first_complex_number[1] * second_complex_number[1]) / denominator\n",
        "  imaginary_part_result = (first_complex_number[1] * second_complex_number[0] - first_complex_number[0] * second_complex_number[1]) / denominator\n",
        "  return real_part_result, imaginary_part_result"
      ],
      "metadata": {
        "id": "DBF2GTAOv2kC"
      },
      "execution_count": null,
      "outputs": []
    },
    {
      "cell_type": "code",
      "source": [
        "result = divide_complex_numbers(a,b)\n",
        "print(\"({} + {}i) / ({} + {}i) = {} + {}i\".format(a[0], a[1], b[0], b[1], result[0], result[1]))"
      ],
      "metadata": {
        "colab": {
          "base_uri": "https://localhost:8080/"
        },
        "id": "z-jeQSdAwdfK",
        "outputId": "21615d00-4518-46fa-d7f2-0de9b1e4f36b"
      },
      "execution_count": null,
      "outputs": [
        {
          "output_type": "stream",
          "name": "stdout",
          "text": [
            "(1 + 8i) / (8 + -4i) = -0.3 + 0.85i\n"
          ]
        }
      ]
    },
    {
      "cell_type": "markdown",
      "source": [
        "**Subtraction of two complex**"
      ],
      "metadata": {
        "id": "wQYFAZSZs8AW"
      }
    },
    {
      "cell_type": "code",
      "source": [
        "def subtract_complex_numbers(first_complex_number, second_complex_number):\n",
        "  real_part_result = first_complex_number[0] - second_complex_number[0]\n",
        "  imaginary_part_result = first_complex_number[1] - second_complex_number[1]\n",
        "  return real_part_result, imaginary_part_result"
      ],
      "metadata": {
        "id": "_UArR6rxx7Xg"
      },
      "execution_count": null,
      "outputs": []
    },
    {
      "cell_type": "code",
      "source": [
        "result = subtract_complex_numbers(a,b)\n",
        "print(\"({} + {}i) / ({} + {}i) = {} + {}i\".format(a[0], a[1], b[0], b[1], result[0], result[1]))"
      ],
      "metadata": {
        "colab": {
          "base_uri": "https://localhost:8080/"
        },
        "id": "SwgOtdtczUxY",
        "outputId": "17fd310f-7ce7-4fc3-ce9e-c35584498895"
      },
      "execution_count": null,
      "outputs": [
        {
          "output_type": "stream",
          "name": "stdout",
          "text": [
            "(1 + 8i) / (8 + -4i) = -7 + 12i\n"
          ]
        }
      ]
    },
    {
      "cell_type": "markdown",
      "source": [
        "**Multiplication of two complex numbers**"
      ],
      "metadata": {
        "id": "F19q2f70tJlg"
      }
    },
    {
      "cell_type": "code",
      "source": [
        "def multiply_complex_numbers(first_complex_number, second_complex_number):\n",
        "  real_part_result = first_complex_number[0] * second_complex_number[0] - first_complex_number[1] * second_complex_number[1]\n",
        "  imaginary_part_result = first_complex_number[0] * second_complex_number[1] + first_complex_number[1] * second_complex_number[0]\n",
        "  return real_part_result, imaginary_part_result"
      ],
      "metadata": {
        "id": "MbxpoALHzFlk"
      },
      "execution_count": null,
      "outputs": []
    },
    {
      "cell_type": "code",
      "source": [
        "result = multiply_complex_numbers(a,b)\n",
        "print(\"({} + {}i) / ({} + {}i) = {} + {}i\".format(a[0], a[1], b[0], b[1], result[0], result[1]))"
      ],
      "metadata": {
        "colab": {
          "base_uri": "https://localhost:8080/"
        },
        "id": "GFH_YVxhz2rJ",
        "outputId": "d48f67e8-6d1f-4e3f-f265-52c8ba646c0d"
      },
      "execution_count": null,
      "outputs": [
        {
          "output_type": "stream",
          "name": "stdout",
          "text": [
            "(1 + 8i) / (8 + -4i) = 40 + 60i\n"
          ]
        }
      ]
    },
    {
      "cell_type": "markdown",
      "source": [
        "**Modulus of a complex number**"
      ],
      "metadata": {
        "id": "St4W4h1OtUu2"
      }
    },
    {
      "cell_type": "code",
      "source": [
        "def modulus(input):\n",
        "  return math.sqrt(pow(input[0], 2) + pow(input[1], 2))"
      ],
      "metadata": {
        "id": "eT1qcLeJAfbn"
      },
      "execution_count": null,
      "outputs": []
    },
    {
      "cell_type": "code",
      "source": [
        "complex_number = (5, 2)\n",
        "result = modulus(complex_number)\n",
        "print(\"|{} + {}i| = {:.2f}\".format(complex_number[0], complex_number[1], result))"
      ],
      "metadata": {
        "colab": {
          "base_uri": "https://localhost:8080/"
        },
        "id": "OFX3EAvbA1Ow",
        "outputId": "710abecb-65c4-43de-ba5e-33845bdeee89"
      },
      "execution_count": null,
      "outputs": [
        {
          "output_type": "stream",
          "name": "stdout",
          "text": [
            "|5 + 2i| = 5.39\n"
          ]
        }
      ]
    },
    {
      "cell_type": "markdown",
      "source": [
        "**Conjugate of a complex number**"
      ],
      "metadata": {
        "id": "FZWKd19rtfCF"
      }
    },
    {
      "cell_type": "code",
      "source": [
        "def conjugate(input):\n",
        " return (input[0], -input[1])"
      ],
      "metadata": {
        "id": "wQwBHJDIBZbh"
      },
      "execution_count": null,
      "outputs": []
    },
    {
      "cell_type": "code",
      "source": [
        "complex_number = (5, 2)\n",
        "result = conjugate(complex_number)\n",
        "print(\"Conjugate of {} + {}i = {} + {}i\".format(complex_number[0], complex_number[1], result[0], result[1]))"
      ],
      "metadata": {
        "colab": {
          "base_uri": "https://localhost:8080/"
        },
        "id": "iA24n1AGBx0Y",
        "outputId": "ab8ff7a2-1c66-43b0-8963-d2acfa6a5ec7"
      },
      "execution_count": null,
      "outputs": [
        {
          "output_type": "stream",
          "name": "stdout",
          "text": [
            "Conjugate of 5 + 2i = 5 + -2i\n"
          ]
        }
      ]
    },
    {
      "cell_type": "code",
      "source": [
        "class ComplexNumber:\n",
        "    def __init__(self, real_part, imaginary_part):\n",
        "        self.real_part = real_part\n",
        "        self.imaginary_part = imaginary_part\n",
        "\n",
        "    def __str__(self):\n",
        "        return f\"{self.real_part} + {self.imaginary_part}i\"\n",
        "\n",
        "    def add(self, input):\n",
        "        r = self.real_part + input.real_part\n",
        "        i = self.imaginary_part + input.imaginary_part\n",
        "        return ComplexNumber(r, i)\n",
        "\n",
        "    def subtract(self, input):\n",
        "        r = self.real_part - input.real_part\n",
        "        i = self.imaginary_part - input.imaginary_part\n",
        "        return ComplexNumber(r, i)\n",
        "\n",
        "    def multiply(self, input):\n",
        "        r = self.real_part * input.real_part - self.imaginary_part * input.imaginary_part\n",
        "        i = self.real_part * input.imaginary_part + self.imaginary_part * input.real_part\n",
        "        return ComplexNumber(r, i)\n",
        "\n",
        "    def modulus(self):\n",
        "        return math.sqrt(pow(self.real_part, 2) + pow(self.imaginary_part, 2))\n",
        "\n",
        "    def conjugate(self):\n",
        "        return ComplexNumber(self.real_part, -self.imaginary_part)\n",
        "\n",
        "    def __add__(self, input):\n",
        "        return self.add(input)\n",
        "\n",
        "    def __sub__(self, input):\n",
        "        return self.subtract(input)\n",
        "\n",
        "    def __mul__(self, input):\n",
        "        return self.multiply(input)"
      ],
      "metadata": {
        "id": "bBfjgD8ryn8-"
      },
      "execution_count": 69,
      "outputs": []
    },
    {
      "cell_type": "code",
      "source": [
        "a = ComplexNumber(1, 8)\n",
        "b = ComplexNumber(8, -4)\n",
        "\n",
        "print(\"a:\", a)\n",
        "print(\"b:\", b)\n",
        "print(\"Sum:\", a + b)\n",
        "print(\"Difference:\", a - b)\n",
        "print(\"Product:\", a * b)\n",
        "print(\"|{}| = {:.2f}\".format(a, result))\n",
        "print(\"Conjugate:\", a.conjugate())\n"
      ],
      "metadata": {
        "colab": {
          "base_uri": "https://localhost:8080/"
        },
        "id": "IM_FPxC8GYaL",
        "outputId": "02365cf1-d41c-421f-cbe4-c661a12aa292"
      },
      "execution_count": 70,
      "outputs": [
        {
          "output_type": "stream",
          "name": "stdout",
          "text": [
            "a: 1 + 8i\n",
            "b: 8 + -4i\n",
            "Sum: 9 + 4i\n",
            "Difference: -7 + 12i\n",
            "Product: 40 + 60i\n",
            "|1 + 8i| = 5.39\n",
            "Conjugate: 1 + -8i\n"
          ]
        }
      ]
    }
  ]
}